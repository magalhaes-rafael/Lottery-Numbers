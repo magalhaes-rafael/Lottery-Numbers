{
 "cells": [
  {
   "cell_type": "markdown",
   "id": "f86cc773",
   "metadata": {},
   "source": [
    "## Creating an aleatory lottery number simulator"
   ]
  },
  {
   "cell_type": "code",
   "execution_count": 2,
   "id": "818e1518",
   "metadata": {},
   "outputs": [
    {
     "name": "stdout",
     "output_type": "stream",
     "text": [
      "31\n",
      "14\n",
      "23\n",
      "55\n",
      "47\n",
      "22\n",
      "Thank you for participating!\n"
     ]
    }
   ],
   "source": [
    "# importing the modules random and de PySimpleGUI for this project\n",
    "\n",
    "import random\n",
    "import PySimpleGUI as sg\n",
    "\n",
    "# defining max and min values\n",
    "\n",
    "class NumberSimulator:\n",
    "    min_value = 1\n",
    "    max_value = 60\n",
    "    mensagem = 'Would you like to generate a new number? [S/N]'\n",
    "\n",
    "    # creating a layout\n",
    "    sg.theme('DarkAmber')\n",
    "\n",
    "    layout = [\n",
    "        [sg.Text('Pick a number')],\n",
    "        [sg.Button('Yes'), sg.Button('No')]\n",
    "    ]\n",
    "\n",
    "    layoutpos = [\n",
    "        [sg.Text('Do you want play again?')],\n",
    "        [sg.Button('Yes'), sg.Button('No')],\n",
    "    ]\n",
    "\n",
    "    def __int__(self):\n",
    "        self.min_value\n",
    "        self.max_value\n",
    "        self.mensagem\n",
    "\n",
    "    def Iniciate(self):\n",
    "\n",
    "        # creating a window for the program\n",
    "        self.windws = sg.Window('Number Simulator', layout = self.layout)\n",
    "        self.windwspos = sg.Window('Number Simulator', layout = self.layoutpos)\n",
    "\n",
    "        # reading the values on the screen\n",
    "        self.events, self.values = self.windws.Read()\n",
    "\n",
    "        # treating the values\n",
    "        while True:\n",
    "            if self.events == sg.WIN_CLOSED or self.events == 'No':\n",
    "                print('Thank you for participating!')\n",
    "                break\n",
    "            else:\n",
    "                self.GenerateNumber()\n",
    "                self.events, self.values = self.windwspos.Read()\n",
    "\n",
    "                if self.events == sg.WIN_CLOSED or self.events == 'No':\n",
    "                    print('Thank you for participating!')\n",
    "                    break\n",
    "                else:\n",
    "                    continue\n",
    "\n",
    "\n",
    "    def GenerateNumber(self):\n",
    "        showing = random.randint(self.min_value, self.max_value)\n",
    "        print(showing)\n",
    "\n",
    "\n",
    "simulador = NumberSimulator()\n",
    "\n",
    "simulador.Iniciate()\n",
    "\n"
   ]
  },
  {
   "cell_type": "code",
   "execution_count": null,
   "id": "541ef487",
   "metadata": {},
   "outputs": [],
   "source": []
  }
 ],
 "metadata": {
  "kernelspec": {
   "display_name": "Python 3 (ipykernel)",
   "language": "python",
   "name": "python3"
  },
  "language_info": {
   "codemirror_mode": {
    "name": "ipython",
    "version": 3
   },
   "file_extension": ".py",
   "mimetype": "text/x-python",
   "name": "python",
   "nbconvert_exporter": "python",
   "pygments_lexer": "ipython3",
   "version": "3.9.12"
  }
 },
 "nbformat": 4,
 "nbformat_minor": 5
}
